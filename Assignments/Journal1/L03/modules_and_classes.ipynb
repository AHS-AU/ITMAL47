{
 "cells": [
  {
   "cell_type": "markdown",
   "metadata": {},
   "source": [
    "# L03_modules_and_classes\n",
    "## Introduction\n",
    "This assignment will cover how import and utilize a library and focus on how to create and understand classes in Python.\n",
    "\n",
    "## Python Basics\n",
    "\n",
    "### Modules and Packages in Python\n",
    "\n",
    "#### Qa Load and test the `libitmal` module\n",
    "\n",
    "Try out the `libitmal` module from [GITMAL]. Load this module and run the function\n",
    "\n",
    "```python\n",
    "from libitmal import utils as itmalutils\n",
    "utils.TestAll()\n",
    "```\n",
    "from this module.\n",
    "##### Qa implementation"
   ]
  },
  {
   "cell_type": "code",
   "execution_count": 1,
   "metadata": {},
   "outputs": [
    {
     "name": "stdout",
     "output_type": "stream",
     "text": [
      "TestPrintMatrix...(no regression testing)\n",
      "X=[[   1.    2.]\n",
      "   [   3. -100.]\n",
      "   [   1.   -1.]]\n",
      "X=[[ 1.  2.]\n",
      "   ...\n",
      "   [ 1. -1.]]\n",
      "X=[[   1.\n",
      "       2.    ]\n",
      "   [   3.0001\n",
      "    -100.    ]\n",
      "   [   1.\n",
      "      -1.    ]]\n",
      "X=[[   1.    2.]\n",
      "   [   3. -100.]\n",
      "   [   1.   -1.]]\n",
      "OK\n",
      "TEST: OK\n",
      "ALL OK\n"
     ]
    }
   ],
   "source": [
    "# Assignment Qa:\n",
    "from libitmal import utils as itmalutils\n",
    "itmalutils.TestAll()"
   ]
  },
  {
   "cell_type": "markdown",
   "metadata": {},
   "source": [
    "##### Qa results\n",
    "In order to use files from the directory libitmal, the user has to \"navigate the OS\" there. This can be done with System Environment Variables in Windows. Alternatively, the user can make use of the \"import sys\" library and write the path destination."
   ]
  },
  {
   "cell_type": "markdown",
   "metadata": {},
   "source": [
    "#### Qb Create your own module, with some functions, and test it\n",
    "\n",
    "Now create your own module, with some dummy functionality. Load it and run you dummy function in a Jupyter Notebook.\n",
    "\n",
    "Keep this module at hand, when coding, and try to capture reusable python functions in it as you invent them!\n",
    "##### Qb implementation"
   ]
  },
  {
   "cell_type": "code",
   "execution_count": 2,
   "metadata": {},
   "outputs": [
    {
     "name": "stdout",
     "output_type": "stream",
     "text": [
      "hello world this is insane function\n"
     ]
    }
   ],
   "source": [
    "# Assignment Qb:\n",
    "from libitmal import ahs_utils as ahs\n",
    "ahs.HelloWorld()"
   ]
  },
  {
   "cell_type": "markdown",
   "metadata": {},
   "source": [
    "##### Qb results\n",
    "It is important to restart the kernel if the library has been modified, otherwise it may not override current section in Jupyter Notebook."
   ]
  },
  {
   "cell_type": "markdown",
   "metadata": {},
   "source": [
    "#### Qc How do you 'recompile' a module?\n",
    "\n",
    "When changing the module code, Jupyter will keep running on the old module. How do you force the Jupyter notebook to re-load the module changes?\n",
    "\n",
    "##### Qc results\n",
    "Simple solution is to open Jupyter Notebook, then click on the \"Kernel\" tab and then click on \"Restart & Run All\". This will restart the kernel and run all sections from top to bottom."
   ]
  },
  {
   "cell_type": "markdown",
   "metadata": {},
   "source": [
    "### Classes in Python\n",
    "\n",
    "#### Qe Extend the class with some public and private functions and member variables\n",
    "\n",
    "How are private function and member variables represented in python classes? \n",
    "\n",
    "What is the meaning of `self` in python classes?\n",
    "\n",
    "What happens to a function inside a class if you forget `self` in the parameter list, like `def myfun():` instead of `def myfun(self):`?\n",
    "\n",
    "##### Qe implementation"
   ]
  },
  {
   "cell_type": "code",
   "execution_count": 3,
   "metadata": {},
   "outputs": [
    {
     "name": "stdout",
     "output_type": "stream",
     "text": [
      "This is a message inside the class, printed from myfun(self).\n",
      "YOU HAVE PRINTED A 'PROTECTED VARIABLE'\n",
      "YOU HAVE PRINTED A 'PROTECTED VARIABLE'\n",
      "(None, \"YOU HAVE PRINTED A 'PROTECTED VARIABLE'\", None)\n"
     ]
    }
   ],
   "source": [
    "# Assignment Qe\n",
    "class MyClass:\n",
    "    mPublic = \"mPublic is: Gnomed\" # Public\n",
    "\n",
    "    def __init__(self, vProtected):\n",
    "        self.mPublic = None\n",
    "        self._mProtected = vProtected # Protected\n",
    "        self.__mPrivate = None # Private\n",
    "\n",
    "    def myfun(self):\n",
    "        print(\"This is a message inside the class, printed from myfun(self).\")\n",
    "        \n",
    "    def printProtectedSelf(self):\n",
    "        print(self._mProtected)\n",
    "        \n",
    "    def NoSelf():\n",
    "        return (self.__mPrivate, self._mProtected, self.mPublic)\n",
    "    \n",
    "    def Self(self):\n",
    "        return (self.__mPrivate, self._mProtected, self.mPublic)\n",
    "\n",
    "# Creating an object to the class and defining the argument vProtected in the __init__ function\n",
    "myobjectx = MyClass(\"YOU HAVE PRINTED A 'PROTECTED VARIABLE'\")\n",
    "myobjectx.myfun()\n",
    "\n",
    "# How to print a Protected Variable\n",
    "myobjectx.printProtectedSelf()\n",
    "# Protected variable can be printed directly without an instance\n",
    "print(myobjectx._mProtected)\n",
    "\n",
    "# MyClass.printProtected() # Not allowed\n",
    "# myobjectx.printProtected() # Not allowed: You need to create it with self in order to make it work\n",
    "\n",
    "# Print difference between Self(self) and NoSelf() functions in the class\n",
    "print(myobjectx.Self())\n",
    "# print(myobjectx.NoSelf()) # Not possible"
   ]
  },
  {
   "cell_type": "markdown",
   "metadata": {},
   "source": [
    "##### Qe results\n",
    "Following the python script, it is possible to see which functions are allowed and not allowed. The use of the self-argument is also very important, otherwise it may lead to unusable functions with specific variables."
   ]
  },
  {
   "cell_type": "markdown",
   "metadata": {},
   "source": [
    "#### Qf Extend the class with a Constructor\n",
    "\n",
    "Figure a way to declare/define a constructor (CTOR) in a python class. How is it done in python?\n",
    "\n",
    "Is there a class destructor in python (DTOR)? Give a textual reason why/why-not python has a DTOR?\n",
    "\n",
    "##### Qf implementation"
   ]
  },
  {
   "cell_type": "code",
   "execution_count": 4,
   "metadata": {},
   "outputs": [
    {
     "name": "stdout",
     "output_type": "stream",
     "text": [
      "1 constructed\n",
      "2 constructed\n",
      "3 constructed\n",
      "1 destructed\n",
      "2 destructed\n",
      "3 destructed\n"
     ]
    }
   ],
   "source": [
    "# Assignment Qf\n",
    "class FooType():\n",
    "    def __init__(self, id):\n",
    "        self.id = id\n",
    "        print(self.id, 'constructed')\n",
    "\n",
    "    def __del__(self):\n",
    "        print(self.id, 'destructed')\n",
    "        \n",
    "\n",
    "def CheckFooType():\n",
    "    obj = FooType(1)\n",
    "    obj2 = FooType(2)\n",
    "    obj3 = FooType(3)\n",
    "    \n",
    "CheckFooType()"
   ]
  },
  {
   "cell_type": "markdown",
   "metadata": {},
   "source": [
    "##### Qf results\n",
    "The python code has shown how CTOR (```__init__```) and DTOR (```__del__```) are made in python. Furthermore, Destructors in python can be used to end some sort of connections, such as an internet connection."
   ]
  },
  {
   "cell_type": "markdown",
   "metadata": {},
   "source": [
    "#### Qg Extend the class with a to-string function\n",
    "\n",
    "Then find a way to serialize a class, that is to make some `tostring()` functionality similar to a C++ \n",
    "\n",
    "```C++\n",
    "friend ostream& operator<<(ostream& s,const MyClass& x)\n",
    "{\n",
    "    return os << ..\n",
    "}\n",
    "```\n",
    "##### Qg implementation"
   ]
  },
  {
   "cell_type": "code",
   "execution_count": 6,
   "metadata": {},
   "outputs": [
    {
     "name": "stdout",
     "output_type": "stream",
     "text": [
      "1 id constructed\n",
      "4 id destructed\n",
      "4 id -- Class toString() in python\n"
     ]
    }
   ],
   "source": [
    "# Assignment Qg:\n",
    "class FooType():\n",
    "    def __init__(self, id):\n",
    "        self.id = id\n",
    "        print(self.id, 'id constructed')\n",
    "\n",
    "    def __del__(self):\n",
    "        print(self.id, 'id destructed')\n",
    "        \n",
    "    def changeId(self, var):\n",
    "        self.id = var\n",
    "        \n",
    "    def __str__(self):\n",
    "        return str(self.id) + \" id -- Class toString() in python\"\n",
    "\n",
    "        \n",
    "p = FooType(1)\n",
    "p.changeId(4)\n",
    "print(p)"
   ]
  },
  {
   "cell_type": "markdown",
   "metadata": {},
   "source": [
    "##### Qg results\n",
    "With the use of ```_str__(self)``` function in the class, we are able to serialize the class similar to toString() in C++."
   ]
  },
  {
   "cell_type": "markdown",
   "metadata": {},
   "source": [
    "## Conclusion\n",
    "Thus we were succesfully able to import and use the libraries in the directory \"libitmal\" by defining the System Environment Variable to the path in Windows.\n",
    "\n",
    "Furthermore, we have explored that Classes in Python must be constructed with care and the use of pre-implemented functions such as ```___init__, ___del___, __str___``` and so on."
   ]
  }
 ],
 "metadata": {
  "kernelspec": {
   "display_name": "Python 3",
   "language": "python",
   "name": "python3"
  },
  "language_info": {
   "codemirror_mode": {
    "name": "ipython",
    "version": 3
   },
   "file_extension": ".py",
   "mimetype": "text/x-python",
   "name": "python",
   "nbconvert_exporter": "python",
   "pygments_lexer": "ipython3",
   "version": "3.7.1"
  }
 },
 "nbformat": 4,
 "nbformat_minor": 2
}
