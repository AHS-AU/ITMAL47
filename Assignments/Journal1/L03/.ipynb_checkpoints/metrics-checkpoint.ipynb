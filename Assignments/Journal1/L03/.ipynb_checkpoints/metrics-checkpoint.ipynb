{
 "cells": [
  {
   "cell_type": "markdown",
   "metadata": {},
   "source": [
    "# L03_metrics   \n",
    "## Introduction\n",
    "In this exercise we will explore the confusion matrix and the terms Accuracy-, Precision-, Recall- and F1Score.<br>\n",
    "We will create our own functions of these terms and compare them with scikit-learns integrated score functions.<br>\n",
    "Furthemore, there will be generated heat maps of the confusion matrix and at last we will work with our dataset from L03_dataset.\n",
    "## Confusion Matrix\n",
    "\n",
    "#### Qa Implement the Accuracy function and test it on the MNIST data.\n",
    "\n",
    "Implement a general accuracy function `MyAccuracy`, that takes `y_pred` and `y_true` as input parameters.\n",
    "\n",
    "Reuse your MNIST data loader and test the `MyAccuracy` function  both on your dummy classifier and on the Stochastic Gradient Descent classifier (with setup parameters as in [HOLM]).\n",
    "\n",
    "##### Qa implementation"
   ]
  },
  {
   "cell_type": "code",
   "execution_count": 1,
   "metadata": {},
   "outputs": [
    {
     "ename": "ModuleNotFoundError",
     "evalue": "No module named 'libitmal'",
     "output_type": "error",
     "traceback": [
      "\u001b[1;31m---------------------------------------------------------------------------\u001b[0m",
      "\u001b[1;31mModuleNotFoundError\u001b[0m                       Traceback (most recent call last)",
      "\u001b[1;32m<ipython-input-1-8bdc7e69360f>\u001b[0m in \u001b[0;36m<module>\u001b[1;34m\u001b[0m\n\u001b[0;32m      1\u001b[0m \u001b[1;31m# Assignment Qa:\u001b[0m\u001b[1;33m\u001b[0m\u001b[1;33m\u001b[0m\u001b[1;33m\u001b[0m\u001b[0m\n\u001b[1;32m----> 2\u001b[1;33m \u001b[1;32mfrom\u001b[0m \u001b[0mlibitmal\u001b[0m \u001b[1;32mimport\u001b[0m \u001b[0mdataloaders\u001b[0m \u001b[1;32mas\u001b[0m \u001b[0mdl\u001b[0m\u001b[1;33m\u001b[0m\u001b[1;33m\u001b[0m\u001b[0m\n\u001b[0m\u001b[0;32m      3\u001b[0m \u001b[1;32mfrom\u001b[0m \u001b[0msklearn\u001b[0m\u001b[1;33m.\u001b[0m\u001b[0mmodel_selection\u001b[0m \u001b[1;32mimport\u001b[0m \u001b[0mtrain_test_split\u001b[0m\u001b[1;33m\u001b[0m\u001b[1;33m\u001b[0m\u001b[0m\n\u001b[0;32m      4\u001b[0m \u001b[1;32mfrom\u001b[0m \u001b[0msklearn\u001b[0m\u001b[1;33m.\u001b[0m\u001b[0mmetrics\u001b[0m \u001b[1;32mimport\u001b[0m \u001b[0maccuracy_score\u001b[0m\u001b[1;33m\u001b[0m\u001b[1;33m\u001b[0m\u001b[0m\n\u001b[0;32m      5\u001b[0m \u001b[1;32mfrom\u001b[0m \u001b[0msklearn\u001b[0m\u001b[1;33m.\u001b[0m\u001b[0mlinear_model\u001b[0m \u001b[1;32mimport\u001b[0m \u001b[0mSGDClassifier\u001b[0m\u001b[1;33m\u001b[0m\u001b[1;33m\u001b[0m\u001b[0m\n",
      "\u001b[1;31mModuleNotFoundError\u001b[0m: No module named 'libitmal'"
     ]
    }
   ],
   "source": [
    "# Assignment Qa:\n",
    "from libitmal import dataloaders as dl\n",
    "from sklearn.model_selection import train_test_split\n",
    "from sklearn.metrics import accuracy_score\n",
    "from sklearn.linear_model import SGDClassifier\n",
    "from sklearn.metrics import confusion_matrix\n",
    "import numpy as np\n",
    "from libitmal import utils as itmalutils\n",
    "\n",
    "# Function that calculates the accuracy from the confusion matrix\n",
    "def MyAccuracy(y_pred, y_true):\n",
    "    TP, FP, FN, TN= GetConfusionMatrix(y_pred, y_true)\n",
    "    N = (TP + FP + TN + FN)\n",
    "    accuracy = (TP + TN ) / N\n",
    "    return accuracy\n",
    "    \n",
    "# TEST FUNCTION: compare with Scikit-learn accuracy_score\n",
    "def TestAccuracy(y_pred, y_true):\n",
    "    a0=MyAccuracy(y_pred, y_true)\n",
    "    a1=accuracy_score(y_pred, y_true)\n",
    "\n",
    "    print(\"my a          =\",a0)\n",
    "    print(\"scikit-learn a=\",a1, \"\\n\")\n",
    "\n",
    "    itmalutils.InRange(a0,a1)\n",
    "    return\n",
    "\n",
    "# Function to Generate a Confusion Matrix\n",
    "def GetConfusionMatrix(y_pred, y_true):\n",
    "    cm = confusion_matrix(y_true, y_pred)\n",
    "    print(\"Confusion Matrix:\\n\", cm) # only for debugging\n",
    "    TP = cm[0][0]\n",
    "    FP = cm[0][1]\n",
    "    FN = cm[1][0]\n",
    "    TN = cm[1][1]\n",
    "    return (TP, FP, FN, TN)\n",
    "\n",
    "# Get data set and train_test_split\n",
    "X, y_true = dl.MNIST_GetDataSet()\n",
    "print(f\" X.shape={X.shape}, y_true.shape={y_true.shape}\")\n",
    "X_train, X_test, y_train, y_test = train_test_split(X, y_true, test_size=0.2,shuffle=True, random_state=42)\n",
    "\n",
    "y_train_5 = (y_train == '5')\n",
    "y_test_5 = (y_test == '5')\n",
    "\n",
    "# DummyClassifier Accuracy\n",
    "dclf = dl.DummyClassifier()\n",
    "dclf.fit(X_train, y_test)\n",
    "y_pred_dummy = dclf.predict(X_test)\n",
    "\n",
    "print(\"\\nDummyClassifier Accuracy:\")\n",
    "acc_dummy = TestAccuracy(y_test_5, y_pred_dummy)\n",
    "\n",
    "# SGDClassifier Accuracy\n",
    "sgd_clf = SGDClassifier(random_state=42)\n",
    "sgd_clf.fit(X_train, y_train_5)\n",
    "y_pred_sgd = sgd_clf.predict(X_test)\n",
    "\n",
    "print(\"SGDClassifier Accuracy:\")\n",
    "acc_sgd = TestAccuracy(y_test_5, y_pred_sgd)"
   ]
  },
  {
   "cell_type": "markdown",
   "metadata": {},
   "source": [
    "##### Qa results\n",
    "The MyAccuracy function produces the same output as sklearns accuracy_score function, which is a huge success considering the two value are identical. The DummyClassifier accuracy is around 90.9% accuracy while the SGDClassifier is around 96.2% accuracy."
   ]
  },
  {
   "cell_type": "markdown",
   "metadata": {},
   "source": [
    "#### Qb Implement Precision, Recall and $F_1$-score and test it on the MNIST data.\n",
    "\n",
    "Now, implement the `MyPrecision`, `MyRecall` and `MyF1Score` functions, again taking MNIST as input, using the SGD and the Dummy classifiers and make some test vectors to compare to the functions found in Scikit-learn...\n",
    "\n",
    "##### Qb implementation"
   ]
  },
  {
   "cell_type": "code",
   "execution_count": 5,
   "metadata": {},
   "outputs": [
    {
     "name": "stdout",
     "output_type": "stream",
     "text": [
      "\n",
      "DummyClassifier Precision:\n",
      "Confusion Matrix:\n",
      " [[12727  1273]\n",
      " [    0     0]]\n",
      "my p          = 0.9090714285714285\n",
      "scikit-learn p= 0.0 \n",
      "\n",
      "\n",
      "SGDClassifier Precision:\n",
      "Confusion Matrix:\n",
      " [[12630   428]\n",
      " [   97   845]]\n",
      "my p          = 0.9672231582171849\n",
      "scikit-learn p= 0.8970276008492569 \n",
      "\n",
      "**************************\n",
      "\n",
      "DummyClassifier Recall:\n",
      "Confusion Matrix:\n",
      " [[12727  1273]\n",
      " [    0     0]]\n",
      "my r          = 1.0\n",
      "scikit-learn r= 0.0 \n",
      "\n",
      "\n",
      "SGDClassifier Recall:\n",
      "Confusion Matrix:\n",
      " [[12630   428]\n",
      " [   97   845]]\n",
      "my r          = 0.9923784081087452\n",
      "scikit-learn r= 0.6637863315003928 \n",
      "\n",
      "**************************\n",
      "\n",
      "DummyClassifier F1Score:\n",
      "Confusion Matrix:\n",
      " [[12727  1273]\n",
      " [    0     0]]\n",
      "my f1          = 0.9523702622815879\n",
      "scikit-learn f1= 0.0 \n",
      "\n",
      "\n",
      "SGDClassifier F1Score:\n",
      "Confusion Matrix:\n",
      " [[12630   428]\n",
      " [   97   845]]\n",
      "my f1          = 0.9796393251890634\n",
      "scikit-learn f1= 0.7629796839729119 \n",
      "\n"
     ]
    }
   ],
   "source": [
    "# Assignment Qb\n",
    "from sklearn.metrics import precision_score\n",
    "from sklearn.metrics import recall_score\n",
    "from sklearn.metrics import f1_score\n",
    "\n",
    "# Function to calculate Precision score\n",
    "def MyPrecision(y_pred, y_true):\n",
    "    TP, FP, FN, TN = GetConfusionMatrix(y_pred, y_true)\n",
    "    PPV = TP/(TP+FP)\n",
    "    return PPV\n",
    "\n",
    "# Function to calculate Recall/Sensitivity score\n",
    "def MyRecall(y_pred, y_true):\n",
    "    # TODO: you impl here\n",
    "    TP, FP, FN, TN = GetConfusionMatrix(y_pred, y_true)\n",
    "    return (TP / (TP + FN))\n",
    "    \n",
    "# Function to calculate F1Score\n",
    "def MyF1Score(y_pred, y_true):\n",
    "    # TODO: you impl here\n",
    "    TP, FP, FN, TN = GetConfusionMatrix(y_pred, y_true)\n",
    "    return (2*TP)/(2*TP + FP + FN)\n",
    "\n",
    "## Test Functions for Precision, Recall and F1Score\n",
    "def TestPrecision(y_pred, y_true):\n",
    "    p0=MyPrecision(y_pred, y_true)\n",
    "    p1=precision_score(y_pred, y_true)\n",
    "\n",
    "    print(\"my p          =\",p0)\n",
    "    print(\"scikit-learn p=\",p1, \"\\n\")\n",
    "\n",
    "    itmalutils.InRange(p0,p1)\n",
    "    return\n",
    "\n",
    "def TestRecall(y_pred, y_true):\n",
    "    r0=MyRecall(y_pred, y_true)\n",
    "    r1=recall_score(y_pred, y_true)\n",
    "\n",
    "    print(\"my r          =\",r0)\n",
    "    print(\"scikit-learn r=\",r1, \"\\n\")\n",
    "\n",
    "    itmalutils.InRange(r0,r1)\n",
    "    return\n",
    "\n",
    "def TestF1Score(y_pred, y_true):\n",
    "    f1_0=MyF1Score(y_pred, y_true)\n",
    "    f1_1=f1_score(y_pred, y_true)\n",
    "\n",
    "    print(\"my f1          =\",f1_0)\n",
    "    print(\"scikit-learn f1=\",f1_1, \"\\n\")\n",
    "\n",
    "    itmalutils.InRange(f1_0,f1_1)\n",
    "    return\n",
    "\n",
    "\n",
    "## Testing Precision\n",
    "print(\"\\nDummyClassifier Precision:\")\n",
    "p_dummy = TestPrecision(y_test_5, y_pred_dummy)\n",
    "\n",
    "print(\"\\nSGDClassifier Precision:\")\n",
    "p_sgd = TestPrecision(y_test_5, y_pred_sgd)\n",
    "\n",
    "print(\"**************************\")\n",
    "\n",
    "## Testig Recall\n",
    "print(\"\\nDummyClassifier Recall:\")\n",
    "r_dummy = TestRecall(y_test_5, y_pred_dummy)\n",
    "\n",
    "print(\"\\nSGDClassifier Recall:\")\n",
    "r_dummy = TestRecall(y_test_5, y_pred_sgd)\n",
    "\n",
    "print(\"**************************\")\n",
    "\n",
    "## Testing F1Score\n",
    "print(\"\\nDummyClassifier F1Score:\")\n",
    "r_dummy = TestF1Score(y_test_5, y_pred_dummy)\n",
    "\n",
    "print(\"\\nSGDClassifier F1Score:\")\n",
    "r_dummy = TestF1Score(y_test_5, y_pred_sgd)"
   ]
  },
  {
   "cell_type": "markdown",
   "metadata": {},
   "source": [
    "##### Qb results\n",
    "There is a difference between Precision, Recall and F1Score between our own functions using algebra and scikit-learns integrated functions. Furthermore, scikit-learn does not have the ability to produce the scores for the DummyClassifier even though the Matrix is properly constructed."
   ]
  },
  {
   "cell_type": "markdown",
   "metadata": {},
   "source": [
    "#### Qc The Confusion Matrix\n",
    "\n",
    "Revisit your solution to Qb in the `dummy_classifier.ipynb`. Did you manage to print the confusion matrix for both the Dummy and the SGD classifier?\n",
    "\n",
    "How are the Scikit-learn confusion matrix organized, where are the TP, FP, FN and TN located in the matrix indices, and what happens if you mess up the parameters calling\n",
    "\n",
    "```python\n",
    "confusion_matrix(y_train_pred, y_train_5)\n",
    "```\n",
    "\n",
    "instead of \n",
    "```python\n",
    "confusion_matrix(y_train_5, y_train_pred)\n",
    "```\n",
    "\n",
    "***QUESTION:***\n",
    "Finally, compare the real and symmetric auto-covariance matrix, $\\Sigma$, with the real but non-symmetric confusion matrix, $\\mathbf{M}$. What does the diagonal represent in the covar- and confusion matrix respectively, and why is the covar- symmetric, but the confusion not? \n",
    "\n",
    "***ANSWER:***\n",
    "The auto-covariance matrix measues variance between all features, which is the explanation behind why it is symmetrical. Furthermore the diagonal fo the auto-covariane matrix is the variance $\\sigma^2$.<br>\n",
    "On the other hand the Confusion Matrix diagonal shows the correct amount of predictions. It is possible to identify all the correct classifications in the diagonal and the wrong classifications in the off-diagonal."
   ]
  },
  {
   "cell_type": "markdown",
   "metadata": {},
   "source": [
    "##### Qc implementation\n",
    "\n",
    "We managed to print the following confusion matrices from Qb in dummy_classifier.ipynb\n",
    "```\n",
    "M_dummy=[[54579     0]\n",
    "        [ 5421      0]]\n",
    "   \n",
    "M_SDG=[[52953   1626]\n",
    "      [  967   4454]]\n",
    "```\n",
    "\n",
    "Following python code shows the difference when swapping the arguments in confusion_matrix() function:"
   ]
  },
  {
   "cell_type": "code",
   "execution_count": 4,
   "metadata": {},
   "outputs": [
    {
     "name": "stdout",
     "output_type": "stream",
     "text": [
      "Printing confusion_matrix(y_test_5, y_pred_sgd):\n",
      "Confusion Matrix:\n",
      " [[12630   428]\n",
      " [   97   845]]\n",
      "\n",
      "Printing confusion_matrix(y_pred_sgd, y_test_5):\n",
      "Confusion Matrix:\n",
      " [[12630    97]\n",
      " [  428   845]]\n"
     ]
    },
    {
     "data": {
      "text/plain": [
       "(12630, 97, 428, 845)"
      ]
     },
     "execution_count": 4,
     "metadata": {},
     "output_type": "execute_result"
    }
   ],
   "source": [
    "print(\"Printing confusion_matrix(y_test_5, y_pred_sgd):\")\n",
    "GetConfusionMatrix(y_test_5, y_pred_sgd)\n",
    "\n",
    "print(\"\\nPrinting confusion_matrix(y_pred_sgd, y_test_5):\")\n",
    "GetConfusionMatrix(y_pred_sgd, y_test_5)"
   ]
  },
  {
   "cell_type": "markdown",
   "metadata": {},
   "source": [
    "As we can see from the two prints. When using Scikit-learns confusion_matrix, it is important to call the arguments properly. Otherwise the output Matrix will result in values that are displaced.<br>\n",
    "In this case we can see that the FP and FN has swapped positions in the confusion matrix, which is very misleading.\n",
    "\n",
    "##### Qc results\n",
    "Scikit-learn confusion matrix is organized as following:<br>\n",
    "tn, fp, fn, tp = confusion_matrix(...)<br>\n",
    "Source: https://scikit-learn.org/stable/modules/generated/sklearn.metrics.confusion_matrix.html\n",
    "\n",
    "It has been proved that the arguments must be placed properly when using sklearn's confusion_matrix() function, otherwise FP and FN may be displaced in the confusion matrix.\n",
    "\n",
    "Furthermore the explanation for auto-covariance and confusion matrix were explained in the beginning of assigment Qc."
   ]
  },
  {
   "cell_type": "markdown",
   "metadata": {},
   "source": [
    "#### Qd A Confusion Matrix Heat-map\n",
    "\n",
    "Generate a _heat map_ image for the confusion matrices, `M_dummy` and `M_SGD` respectively, getting inspiration from [HOML], pp96-97.\n",
    "\n",
    "This heat map could be an important guide for you when analysing multiclass data in the future.\n",
    "\n",
    "##### Qd implementation"
   ]
  },
  {
   "cell_type": "code",
   "execution_count": 6,
   "metadata": {},
   "outputs": [
    {
     "data": {
      "image/png": "[encoded data removed]",
      "text/plain": [
       "<Figure size 288x288 with 1 Axes>"
      ]
     },
     "metadata": {
      "needs_background": "light"
     },
     "output_type": "display_data"
    },
    {
     "data": {
      "image/png": "[encoded data removed]",
      "text/plain": [
       "<Figure size 288x288 with 1 Axes>"
      ]
     },
     "metadata": {
      "needs_background": "light"
     },
     "output_type": "display_data"
    }
   ],
   "source": [
    "# Assignment Qd:\n",
    "import matplotlib.pyplot as plt\n",
    "\n",
    "M_dummy=[[54579, 0],\n",
    "        [5421, 0]]\n",
    "   \n",
    "M_SGD=[[52953, 1626],\n",
    "      [967,4454]]\n",
    "plt.matshow(M_dummy, cmap=plt.cm.gray)\n",
    "plt.title(\"Heat Map Image of M_dummy\")\n",
    "plt.show()\n",
    "\n",
    "plt.matshow(M_SGD, cmap=plt.cm.gray)\n",
    "plt.title(\"Heat Map Image of M_SGD\")\n",
    "plt.show()"
   ]
  },
  {
   "cell_type": "markdown",
   "metadata": {},
   "source": [
    "##### Qd results\n",
    "The heat map image has been constructed as seen on the two plots. With the heat map, we are able to differentiate the low and high values of the confusion matrix."
   ]
  },
  {
   "cell_type": "markdown",
   "metadata": {},
   "source": [
    "#### Qe Run a classifier on your data\n",
    "\n",
    "Finally, try to run a classifier on the data-set you selected previously, perhaps starting with the SGD.\n",
    "\n",
    "Is it possible to classify at all on your data, or do we need regression instead?\n",
    "\n",
    "Are you able to do supervised learning, or are there no obvious `y_true` data in your set at all?\n",
    "\n",
    "If your data is in the form, where you are able to do supervised-classification, could you produce a confusion matrix heatmap, then?\n",
    "##### Qe implementation"
   ]
  },
  {
   "cell_type": "code",
   "execution_count": 8,
   "metadata": {},
   "outputs": [],
   "source": [
    "# Assignment Qe\n",
    "import pandas as pd\n",
    "import numpy as np\n",
    "from libitmal import dataloaders as dl\n",
    "import matplotlib.pyplot as plt\n",
    "from sklearn.preprocessing import LabelEncoder\n",
    "\n",
    "# Following code is from: https://www.kaggle.com/microtang/poe-path-of-exile-statistics-an-exploration\n",
    "# Who has made a train_and_split on the dataset with the use of xgboost library\n",
    "# df = dl.GetOrderedClassInLadder('SSF Harbinger HC')\n",
    "# print(df)\n",
    "df = pd.read_csv('poe_stats.csv', delimiter = ',')\n",
    "from sklearn.model_selection import train_test_split\n",
    "import xgboost as xgb\n",
    "import warnings\n",
    "warnings.filterwarnings('ignore')\n",
    "#data process\n",
    "df['is_in_top_30'] = np.zeros(len(df))\n",
    "df.loc[df['rank'] <= 30, 'is_in_top_30'] = True\n",
    "df.loc[df['rank'] >30,  'is_in_top_30'] = False\n",
    "labelencoder_y= LabelEncoder()\n",
    "df['is_in_top_30'] = labelencoder_y.fit_transform(df['is_in_top_30'])\n",
    "X = df[['dead', 'online', 'level', 'class', 'challenges', 'ladder']]\n",
    "y = df['is_in_top_30']\n",
    "# Encoding the categorical data\n",
    "labelencoder_X_1 = LabelEncoder()\n",
    "X['dead'] = labelencoder_X_1.fit_transform(X['dead'])\n",
    "labelencoder_X_2 = LabelEncoder()\n",
    "X['online'] = labelencoder_X_2.fit_transform(X['online'])\n",
    "labelencoder_X_3 = LabelEncoder()\n",
    "X['class'] = labelencoder_X_3.fit_transform(X['class'])\n",
    "labelencoder_X_5 = LabelEncoder()\n",
    "X['ladder'] = labelencoder_X_5.fit_transform(X['ladder'])\n",
    "labelencoder_X_6 = LabelEncoder()\n",
    "#X['twitch'] = labelencoder_X_6.fit_transform(X['twitch'])\n",
    "# # Splitting the dataset into the Training set and Validation set\n",
    "X_train, X_test, y_train, y_test = train_test_split(X, y, test_size = 0.20, random_state = 0)\n",
    "dt = xgb.DMatrix(X_train.as_matrix(),label=y_train.as_matrix())\n",
    "dv = xgb.DMatrix(X_test.as_matrix(),label=y_test.as_matrix())\n"
   ]
  },
  {
   "cell_type": "code",
   "execution_count": 9,
   "metadata": {},
   "outputs": [
    {
     "name": "stdout",
     "output_type": "stream",
     "text": [
      "[0]\ttrain-logloss:0.011386\tvalid-logloss:0.009517\n",
      "[500]\ttrain-logloss:0.002008\tvalid-logloss:0.004369\n",
      "[1000]\ttrain-logloss:0.001814\tvalid-logloss:0.004994\n",
      "[1500]\ttrain-logloss:0.001738\tvalid-logloss:0.005486\n",
      "[2000]\ttrain-logloss:0.001699\tvalid-logloss:0.005857\n",
      "[2500]\ttrain-logloss:0.00168\tvalid-logloss:0.006095\n",
      "[3000]\ttrain-logloss:0.001666\tvalid-logloss:0.006329\n",
      "[3500]\ttrain-logloss:0.001656\tvalid-logloss:0.006535\n",
      "[4000]\ttrain-logloss:0.001648\tvalid-logloss:0.006739\n",
      "[4500]\ttrain-logloss:0.001642\tvalid-logloss:0.006927\n",
      "[4999]\ttrain-logloss:0.001638\tvalid-logloss:0.007084\n"
     ]
    }
   ],
   "source": [
    "params = {\n",
    "    \"eta\": 0.2,\n",
    "    \"max_depth\": 4,\n",
    "    \"objective\": \"binary:logistic\",\n",
    "    \"silent\": 1,\n",
    "    \"base_score\": np.mean(y_train),\n",
    "    'n_estimators': 1000,\n",
    "    \"eval_metric\": \"logloss\"\n",
    "}\n",
    "### Ignore the following output, it's for validation since it's a slow process.\n",
    "model = xgb.train(params, dt, 5000, [(dt, \"train\"),(dv, \"valid\")], verbose_eval=500)"
   ]
  },
  {
   "cell_type": "code",
   "execution_count": 10,
   "metadata": {},
   "outputs": [
    {
     "name": "stdout",
     "output_type": "stream",
     "text": [
      "Confusion Matrix:\n",
      " [[11935     3]\n",
      " [   10     8]]\n",
      "my a          = 0.9989126798260288\n",
      "scikit-learn a= 0.9989126798260288 \n",
      "\n"
     ]
    }
   ],
   "source": [
    "from sklearn.metrics import confusion_matrix\n",
    "# Prediction on validation set\n",
    "y_pred = model.predict(dv)\n",
    "\n",
    "# Calculating accuracy of the validation set\n",
    "TestAccuracy((y_pred>0.5),y_test)"
   ]
  },
  {
   "cell_type": "code",
   "execution_count": 13,
   "metadata": {},
   "outputs": [
    {
     "name": "stdout",
     "output_type": "stream",
     "text": [
      "Confusion Matrix:\n",
      " [[11938    18]\n",
      " [    0     0]]\n",
      "my a          = 0.9984944797591168\n",
      "scikit-learn a= 0.9984944797591168 \n",
      "\n"
     ]
    }
   ],
   "source": [
    "# Creating DummyClassifier and calculating its accuracy\n",
    "dclf = dl.DummyClassifier()\n",
    "dclf.fit(X_train, y_test)\n",
    "y_pred_dummy = dclf.predict(X_test)\n",
    "\n",
    "acc_dummy = TestAccuracy(y_test, y_pred_dummy)"
   ]
  },
  {
   "cell_type": "code",
   "execution_count": 14,
   "metadata": {},
   "outputs": [
    {
     "name": "stdout",
     "output_type": "stream",
     "text": [
      "SGDClassifier Accuracy:\n",
      "Confusion Matrix:\n",
      " [[11938    18]\n",
      " [    0     0]]\n",
      "my a          = 0.9984944797591168\n",
      "scikit-learn a= 0.9984944797591168 \n",
      "\n"
     ]
    }
   ],
   "source": [
    "# Creating SGDClassifier and calculating its accuracy\n",
    "sgd_clf = SGDClassifier(random_state=42)\n",
    "sgd_clf.fit(X_train, y_train)\n",
    "y_pred_sgd = sgd_clf.predict(X_test)\n",
    "\n",
    "print(\"SGDClassifier Accuracy:\")\n",
    "acc_sgd = TestAccuracy(y_test, y_pred_sgd)"
   ]
  },
  {
   "cell_type": "markdown",
   "metadata": {},
   "source": [
    "Both the DummyClassifier and SGDClassifier removes the False Negatives and True Positives while increasing the False Positives if we were to compare it with the confusion matrix given from the validation set. However their accuracy is not too far behind the validation set."
   ]
  },
  {
   "cell_type": "code",
   "execution_count": 16,
   "metadata": {},
   "outputs": [
    {
     "data": {
      "image/png": "[encoded data removed]",
      "text/plain": [
       "<Figure size 288x288 with 1 Axes>"
      ]
     },
     "metadata": {
      "needs_background": "light"
     },
     "output_type": "display_data"
    }
   ],
   "source": [
    "# Generating heatmaps of the confusion matrix for validation set\n",
    "M_validation =[[11935, 3],\n",
    "                [10, 8]]\n",
    "plt.matshow(M_validation, cmap=plt.cm.gray)\n",
    "plt.title(\"Heat Map Image of Validation Set Confusion Matrix\")\n",
    "plt.show()"
   ]
  },
  {
   "cell_type": "markdown",
   "metadata": {},
   "source": [
    "As expected, the heat map image produces only the white block for the TP in our scenario."
   ]
  },
  {
   "cell_type": "markdown",
   "metadata": {},
   "source": [
    "##### Qe results\n",
    "We ran the DummyClassifier and SGDClassifier on the data-set, furthermore we were able to classify our data but we could also have made a regression.\n",
    "\n",
    "It is possible to do supervised learning in this dataset, as there are several parameters to be experimented with.\n",
    "\n",
    "At last we successfully generated a confusion matrix heatmap out of the confusion matrix given from the validation set.\n",
    "\n",
    "## Conclusion\n",
    "We were able to implement our own accuracy score function which produces the identical value as sklearns accuracy_score. However there was a difference between our precision, recall and f1score compared to sklearns integrated score functions.\n",
    "\n",
    "Furthermore we were able to generate heatmaps of the confusion matrices, which are not too useful at this point, but if we were to expand it we would be able to use it in better scenarios.\n",
    "\n",
    "At last we tested our data-set from L03_dataset exercise and were able to include several methods we experimented with throughout this exercise, such as accuracy, confusion matrix, heatmap etc."
   ]
  }
 ],
 "metadata": {
  "kernelspec": {
   "display_name": "Python 3",
   "language": "python",
   "name": "python3"
  },
  "language_info": {
   "codemirror_mode": {
    "name": "ipython",
    "version": 3
   },
   "file_extension": ".py",
   "mimetype": "text/x-python",
   "name": "python",
   "nbconvert_exporter": "python",
   "pygments_lexer": "ipython3",
   "version": "3.7.1"
  }
 },
 "nbformat": 4,
 "nbformat_minor": 2
}
