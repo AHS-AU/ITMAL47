{
 "cells": [
  {
   "cell_type": "markdown",
   "metadata": {},
   "source": [
    "# Basic Machine Learning Math\n",
    "\n",
    "\n",
    "## Introduction\n",
    "\n",
    "In this exercise we are to show an understanding for some of the mathematical building bricks of machine learning. This includes working with matrices and arrays both mathematically and pythonic.\n",
    "\n",
    "### Vector and matrix representation in python\n",
    "\n",
    "\n",
    "#### Qa Given the following $\\mathbf{x}^{(i)}$'s, construct and print the $\\mathbf X$ matrix in python.\n",
    "\n",
    "$$\n",
    "    \\newcommand\\rem[1]{}\n",
    "    \\rem{ITMAL: CEF def and LaTeX commands, rember: no newlines in defs}\n",
    "    \\newcommand\\eq[2]{#1 &=& #2\\\\}\n",
    "    \\newcommand\\ar[2]{\\begin{array}{#1}#2\\end{array}}\n",
    "    \\newcommand\\ac[2]{\\left[\\ar{#1}{#2}\\right]}\n",
    "    \\newcommand\\st[1]{_{\\mbox{\\scriptsize #1}}}\n",
    "    \\newcommand\\norm[1]{{\\cal L}_{#1}}\n",
    "    \\newcommand\\obs[2]{#1_{\\mbox{\\scriptsize obs}}^{\\left(#2\\right)}}\n",
    "    \\newcommand\\diff[1]{\\mbox{d}#1}\n",
    "    \\newcommand\\pown[1]{^{(#1)}}\n",
    "    \\def\\pownn{\\pown{n}}\n",
    "    \\def\\powni{\\pown{i}}\n",
    "    \\def\\powtest{\\pown{\\mbox{\\scriptsize test}}}\n",
    "    \\def\\powtrain{\\pown{\\mbox{\\scriptsize train}}}\n",
    "    \\def\\bX{\\mathbf{X}}\n",
    "    \\def\\bx{\\mathbf{x}}\n",
    "    \\def\\bw{\\mathbf{w}}\n",
    "    \\def\\by{\\mathbf{y}}\n",
    "    \\def\\bz{\\mathbf{z}}\n",
    "    \\def\\btheta{{\\boldsymbol\\theta}}\n",
    "    \\def\\half{\\frac{1}{2}}\n",
    "$$    \n",
    "\n",
    "$$\n",
    "    \\ar{rl}{\n",
    "      \\bx\\pown{1} &= \\ac{c}{ 1, 2, 3}^T \\\\\n",
    "      \\bx\\pown{2} &= \\ac{c}{ 4, 2, 1}^T \\\\\n",
    "      \\bx\\pown{3} &= \\ac{c}{ 3, 8, 5}^T \\\\\n",
    "      \\bx\\pown{4} &= \\ac{c}{-9,-1, 0}^T\n",
    "    }\n",
    "$$\n",
    "\n",
    "Use _numpy_ as matrix container, do not use the built-in python lists or the numpy matrix subclass.\n",
    " "
   ]
  },
  {
   "cell_type": "markdown",
   "metadata": {},
   "source": [
    "#### Qa Implementation"
   ]
  },
  {
   "cell_type": "code",
   "execution_count": 5,
   "metadata": {},
   "outputs": [
    {
     "name": "stdout",
     "output_type": "stream",
     "text": [
      "[[ 1  2  3]\n",
      " [ 4  2  1]\n",
      " [ 3  8  5]\n",
      " [-9 -1  0]]\n"
     ]
    }
   ],
   "source": [
    "import numpy as np\n",
    "\n",
    "y = np.array([1,2,3,4]) # NOTE:  you'll need this later\n",
    "\n",
    "\n",
    "# we create 4 vectors (or arrays in python to describe x1-4)\n",
    "\n",
    "x1 = np.array([1, 2, 3]).T\n",
    "x2 = np.array([4, 2, 1]).T\n",
    "x3 = np.array([3, 8, 5]).T\n",
    "x4 = np.array([-9, -1, 0]).T\n",
    "\n",
    "# using the vectors x1-4 we create the full matrix X\n",
    "\n",
    "X = np.array([x1.T, x2.T, x3.T, x4.T])\n",
    " \n",
    "print(X)"
   ]
  },
  {
   "cell_type": "markdown",
   "metadata": {},
   "source": [
    "#### Qa Result\n",
    "\n",
    "As seen on the prinout above X is a nice 3x4 matrix, just as it ought to be"
   ]
  },
  {
   "cell_type": "markdown",
   "metadata": {},
   "source": [
    "### Norms, metrics or distances\n",
    "\n",
    "$$\n",
    "    \\norm{2}:~~ ||\\bx||_2 = \\left( \\sum_{i=1}^{n} |x_i|^2 \\right)^{1/2}\\\\\n",
    "$$\n",
    "\n",
    "\n",
    "$$\n",
    "    \\norm{1}:~~ ||\\bx||_1 = \\sum_i |x_i|\n",
    "$$\n",
    "\n",
    "#### Qb Implement the $\\norm{1}$ and $\\norm{2}$ norms for vectors in python.\n",
    "\n",
    "First, do not use any built-in methods, not even x.dot(). Name your functions L1 and L2 respectively, they both take one vector as input argument.\n",
    "\n",
    "But test your implementation against some built-in functions, say  ```numpy.linalg.norm```\n",
    "\n",
    "When this works, and passes the tests below, optimize the $\\norm{2}$, such that it uses np.numpy's dot operator instead of an explicit sum, call this function L2Dot. This implementation must be pythonic, i.e. it must not contain explicit for- or while-loops."
   ]
  },
  {
   "cell_type": "markdown",
   "metadata": {},
   "source": [
    "#### Qb Implementation\n",
    "Implement the L1, L2 and L2Dot functions"
   ]
  },
  {
   "cell_type": "code",
   "execution_count": 20,
   "metadata": {},
   "outputs": [
    {
     "name": "stdout",
     "output_type": "stream",
     "text": [
      "tx-ty= [-2  3 -1 -2] , d1-expected_d1= 0.0 , d2-expected_d1= 0.0\n",
      "d2dot-expected_d2= 0.0\n"
     ]
    }
   ],
   "source": [
    "# L1 is solved using a for loop to sum all the values in the array\n",
    "def L1(xi):\n",
    "\n",
    "    assert xi.shape[0]>=0, \"L1 xi matrix is empty\"\n",
    "\n",
    "    sum = 0\n",
    "    xi = abs(xi)\n",
    "    \n",
    "    for x in xi:\n",
    "        sum += x\n",
    "    \n",
    "    return sum\n",
    "   \n",
    "# L2 is solved using a for loop to sum all the values, squared, in the array. The root value of the sum is then returned\n",
    "def L2(xi):\n",
    "    \n",
    "    assert xi.shape[0]>=0, \"L2 xi matrix is empty\"\n",
    "\n",
    "    sum = 0\n",
    "    xi = abs(xi)\n",
    "    \n",
    "    for x in xi:\n",
    "        sum += x**2\n",
    "    \n",
    "    return sum**0.5\n",
    "  \n",
    "# L2Dot is solved using pythons inbuilt sum function.    \n",
    "def L2Dot(xi):\n",
    "    assert xi.shape[0]>=0, \"L2Dot xi matrix is empty\"\n",
    "\n",
    "    return sum(abs(xi)**2)**0.5\n",
    "    \n",
    "\n",
    "# TEST vectors: here I test your implementation...calling your L1() and L2() functions\n",
    "tx=np.array([1, 2, 3, -1])\n",
    "ty=np.array([3,-1, 4,  1])\n",
    "\n",
    "expected_d1=8.0\n",
    "expected_d2=4.242640687119285\n",
    "\n",
    "d1=L1(tx-ty)\n",
    "d2=L2(tx-ty)\n",
    "\n",
    "print(\"tx-ty=\",tx-ty,\", d1-expected_d1=\",d1-expected_d1,\", d2-expected_d1=\",d2-expected_d2)\n",
    "\n",
    "eps=1E-9\n",
    "assert np.fabs(d1-expected_d1)<eps, \"L1 dist seems to be wrong\" \n",
    "assert np.fabs(d2-expected_d2)<eps, \"L2 dist seems to be wrong\" \n",
    "\n",
    "# comment-in once your L2Dot fun is ready...\n",
    "d2dot=L2Dot(tx-ty)\n",
    "print(\"d2dot-expected_d2=\",d2dot-expected_d2)\n",
    "assert np.fabs(d2dot-expected_d2)<eps, \"L2Ddot dist seem to be wrong\" "
   ]
  },
  {
   "cell_type": "markdown",
   "metadata": {},
   "source": [
    "#### Qb Result\n",
    "In the prinouts we see that the results from d1, d2 and d2dot matches the expected values, hence the implementation was done correct."
   ]
  },
  {
   "cell_type": "markdown",
   "metadata": {},
   "source": [
    "## Performance metrics \n",
    "\n",
    "\n",
    "$$\n",
    "    \\ar{rl}{\n",
    "        \\mbox{MSE} &= \\frac{1}{n} \\sum_{i=1}^{n} (\\hat{Z}_i-Z_i)^2 = \\frac{1}{n} SS\\\\\n",
    "        \\mbox{RMSE} &= \\sqrt{MSE}\\\n",
    "    }\n",
    "$$\n",
    "\n",
    "\n",
    "### Qc Construct the Root Mean Square Error (RMSE) function (Equation 2-1 [HOLM]).\n",
    "\n",
    "Call the function RMSE, and evaluate it using the $\\bX$ matrix and $\\by$ from Qa\n",
    "\n",
    "We implement a dummy hypothesis function, that just takes the first column of $\\bX$ as its 'prediction'\n",
    "\n",
    "$$\n",
    "    h_{dummy}(\\bX) = \\bX(:,0)\n",
    "$$\n"
   ]
  },
  {
   "cell_type": "markdown",
   "metadata": {},
   "source": [
    "#### Qc Implementation\n",
    "Implement an RMSE function"
   ]
  },
  {
   "cell_type": "code",
   "execution_count": 12,
   "metadata": {},
   "outputs": [
    {
     "name": "stdout",
     "output_type": "stream",
     "text": [
      "[ 1  4  3 -9]\n",
      "RMSE= 6.576473218982953 , diff= 2.6645352591003757e-15\n"
     ]
    }
   ],
   "source": [
    "# the RMSE function is implemented using the mean function since the sum part is just the mean of the array (predicted - expected)\n",
    "# a check for an empty list is done\n",
    "def RMSE(X,y):\n",
    "    \n",
    "    #check for empty list\n",
    "    assert len(X) != 0, \"m is 0\"\n",
    "    \n",
    "    return np.sqrt(((X-y)**2).mean())\n",
    "    \n",
    "\n",
    "# TEST vector:\n",
    "def h(X):    \n",
    "    if X.ndim!=2:\n",
    "        raise ValueError(\"excpeted X to be of ndim=2, got ndim=\",X.ndim)\n",
    "    if X.shape[0]==0 or X.shape[1]==0:\n",
    "        raise ValueError(\"X got zero data along the 0/1 axis, cannot continue\")\n",
    "    return X[:,0]\n",
    "\n",
    "eps=1E-9\n",
    "\n",
    "print(h(X))\n",
    "r=RMSE(h(X),y)\n",
    "expected=6.57647321898295\n",
    "print(\"RMSE=\",r,\", diff=\",r-expected)\n",
    "assert r-expected<eps, \"your RMSE dist seems to be wrong\" "
   ]
  },
  {
   "cell_type": "markdown",
   "metadata": {},
   "source": [
    "#### Qc Results\n",
    "As seen in the printouts the results does not differ from the extected values."
   ]
  },
  {
   "cell_type": "markdown",
   "metadata": {},
   "source": [
    "### MAE\n",
    "\n",
    "#### Qd Similar construct the Mean Absolute Error (MAE) function (Equation 2-2 [HOLM]) and evaluate it.\n",
    "\n",
    "The MAE will algorithmic wise be similar to the MSE part from using the $\\norm{1}$ instead of the $\\norm{2}$ norm."
   ]
  },
  {
   "cell_type": "markdown",
   "metadata": {},
   "source": [
    "#### Qd Implementation\n",
    "Implement a MSE function"
   ]
  },
  {
   "cell_type": "code",
   "execution_count": 11,
   "metadata": {},
   "outputs": [
    {
     "name": "stdout",
     "output_type": "stream",
     "text": [
      "MAE= 3.75 , diff= 0.0\n"
     ]
    }
   ],
   "source": [
    "# like the RMSE function the mean is again taking, however here it is shown on a more mathematically form using sum and 1/m\n",
    "def MAE(X,y):\n",
    "    \n",
    "    #check for empty list\n",
    "    m = len(X)\n",
    "    assert m != 0, \"m is 0\"\n",
    "    \n",
    "    return 1/m*sum(abs(X-y))\n",
    "\n",
    "\n",
    "# Qd Results\n",
    "\n",
    "# TEST vector:\n",
    "r=MAE(h(X), y)\n",
    "expected=3.75\n",
    "print(\"MAE=\",r,\", diff=\",r-expected)\n",
    "assert r-expected<eps, \"MAE dist seems to be wrong\" "
   ]
  },
  {
   "cell_type": "markdown",
   "metadata": {},
   "source": [
    "#### Qd Result\n",
    "Again the results matches the expected values"
   ]
  },
  {
   "cell_type": "markdown",
   "metadata": {},
   "source": [
    "## Pythonic Code\n",
    "\n",
    "\n",
    "#### Qe Robust Code \n",
    "\n",
    "Add error checking code (asserts or exceptions), that checks for right $\\hat\\by$-$\\by$ sizes of the RMAE and MEA functions.\n",
    "\n",
    "Also add error checking to all you previously tested L2() and L1() functions, and re-run all your tests."
   ]
  },
  {
   "cell_type": "code",
   "execution_count": 2,
   "metadata": {},
   "outputs": [],
   "source": [
    "# TODO: solve Qe...you need to modify your python cells above\n",
    "\n",
    "# check asserts throughout the code above."
   ]
  }
 ],
 "metadata": {
  "kernelspec": {
   "display_name": "Python 3",
   "language": "python",
   "name": "python3"
  },
  "language_info": {
   "codemirror_mode": {
    "name": "ipython",
    "version": 3
   },
   "file_extension": ".py",
   "mimetype": "text/x-python",
   "name": "python",
   "nbconvert_exporter": "python",
   "pygments_lexer": "ipython3",
   "version": "3.7.1"
  }
 },
 "nbformat": 4,
 "nbformat_minor": 2
}
