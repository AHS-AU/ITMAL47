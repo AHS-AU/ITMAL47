{
 "cells": [
  {
   "cell_type": "markdown",
   "metadata": {},
   "source": [
    "# L09_neurons\n",
    "\n",
    "## On Neurons, Biology and Cognition\n",
    "### Qa The Biological Neurons and the Human Brain\n",
    "\n",
    "Describe, in plain not-too-biological terms, the structure of a biological neuron.\n",
    "\n",
    "In broad terms, how does a neuron communicate? \n",
    "\n",
    "Then explain, again with the wording of an engineer, not a biologist, how the neurons are structured in the brain. \n"
   ]
  },
  {
   "cell_type": "markdown",
   "metadata": {},
   "source": [
    "##### Qa Results\n",
    "Neurons sends messages throughout the body to do actions with electrical and chemical signals. It starts as an electrical signal travelling down a neuron which is called an action potential.<br>\n",
    "When the messages reaches the gap, also called the synapse, between two neurons they need help to get across. This is where the action potential transform into a chemical message.<br>\n",
    "With repeated activity, the synapse gets stronger so the next message is more likely to get through. This way the neurons learn to pass important messages and ignore the rest, which is how our brains learn and adapts every day.\n",
    "\n",
    "In the view of an engineer, this is basically the definition of machine learning. We strife to make machines smarter, and by using different utilities or algorithms, we are able to improve the machine the exact same way the brain is learning and adapting."
   ]
  },
  {
   "cell_type": "markdown",
   "metadata": {},
   "source": [
    "### Qb On Cognition\n",
    "\n",
    "Write an ultra-short essay on cognition, no more than 10-20 lines. \n",
    "\n",
    "Using the definition from Wikipedia:\n",
    "\n",
    "> <em>Cognition is \"the mental action or process of acquiring knowledge and understanding through thought, experience, and the senses...\"<br>[https://en.wikipedia.org/wiki/Cognition]\n",
    "</em>\n",
    "\n",
    "Now, explaining cognition is still a pretty impossible philosophical question to answer. So you should answer this question: __what is your understanding of cognition?__\n",
    "\n",
    "If we reproduce biological neurons, and just make enough of them, in your opinion, will a machine ever be able to have _cognition_?  "
   ]
  },
  {
   "cell_type": "markdown",
   "metadata": {},
   "source": [
    "##### Qb Results\n",
    "Cognition is a significant part of our daily activities and every day the human brain utilizes this mental action. The way we eat, speak and do so many other things is due to cognition. A simple task such as eating an apple, may in reality be very complex, because our brain processes this and as humans we tend to not pay attention to these simple tasks.\n",
    "\n",
    "In short, cognition is basically signals whenever our brain gets activated to do a certain action. For example being afraid of heights signals the brain and tells the body that the current action is dangerous.\n",
    "\n",
    "However for engineers working with machine learning, the more interesting question is: **How can we implement these functions into algorithms?**. Because if we are able to break these functions into algorithms, we may be able to code it into a machine and perhaps the machine will be able to have senses comparable with humans, such as being afraid of heights."
   ]
  },
  {
   "cell_type": "markdown",
   "metadata": {},
   "source": [
    "## Conclusion\n",
    "Thus we have learned the definitions of neurons, cognition and how they can be used in machine learning. With the use of these two terms, an engineer or software developer can use them to improve machines and give them special human-like features such as our senses."
   ]
  }
 ],
 "metadata": {
  "kernelspec": {
   "display_name": "Python 3",
   "language": "python",
   "name": "python3"
  },
  "language_info": {
   "codemirror_mode": {
    "name": "ipython",
    "version": 3
   },
   "file_extension": ".py",
   "mimetype": "text/x-python",
   "name": "python",
   "nbconvert_exporter": "python",
   "pygments_lexer": "ipython3",
   "version": "3.7.1"
  },
  "varInspector": {
   "cols": {
    "lenName": 16,
    "lenType": 16,
    "lenVar": 40
   },
   "kernels_config": {
    "python": {
     "delete_cmd_postfix": "",
     "delete_cmd_prefix": "del ",
     "library": "var_list.py",
     "varRefreshCmd": "print(var_dic_list())"
    },
    "r": {
     "delete_cmd_postfix": ") ",
     "delete_cmd_prefix": "rm(",
     "library": "var_list.r",
     "varRefreshCmd": "cat(var_dic_list()) "
    }
   },
   "types_to_exclude": [
    "module",
    "function",
    "builtin_function_or_method",
    "instance",
    "_Feature"
   ],
   "window_display": true
  }
 },
 "nbformat": 4,
 "nbformat_minor": 2
}
